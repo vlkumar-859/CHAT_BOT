{
  "nbformat": 4,
  "nbformat_minor": 0,
  "metadata": {
    "colab": {
      "name": "Jarvia ChatBot.ipynb",
      "provenance": [],
      "collapsed_sections": [],
      "include_colab_link": true
    },
    "kernelspec": {
      "name": "python3",
      "display_name": "Python 3"
    }
  },
  "cells": [
    {
      "cell_type": "markdown",
      "metadata": {
        "id": "view-in-github",
        "colab_type": "text"
      },
      "source": [
        "<a href=\"https://colab.research.google.com/github/vlkumar-859/CHAT_BOT/blob/main/Jarvis_ChatBot.ipynb\" target=\"_parent\"><img src=\"https://colab.research.google.com/assets/colab-badge.svg\" alt=\"Open In Colab\"/></a>"
      ]
    },
    {
      "cell_type": "markdown",
      "metadata": {
        "id": "SL9bKpBdN6_g"
      },
      "source": [
        "# **Jarvis**- A bot which assists customer in buying a mobile based on the features provided...\n"
      ]
    },
    {
      "cell_type": "code",
      "metadata": {
        "id": "LZ0wsUF0Cjat"
      },
      "source": [
        "# importing packages\n",
        "import random\n",
        "import datetime"
      ],
      "execution_count": null,
      "outputs": []
    },
    {
      "cell_type": "code",
      "metadata": {
        "id": "aCaYKsXMMIeI"
      },
      "source": [
        "# Greetings message from Bot to the customer based on time\n",
        "def GREETINGS(NAME):\n",
        "    l=[]\n",
        "    l.append(\"HELLO BUDDY..! THIS IS JARVIS\")\n",
        "    l.append(\"HEY I AM JARVIS ...\")\n",
        "    l.append(\"WHAT'S UP BUDDY..! this is JARVIS\")\n",
        "    l.append(\"HI .. THIS IS JARVIS..\")\n",
        "    s=\":) \"+random.choice(l)+\" UR GOOD NAME PLEASE ..!\"\n",
        "    print(s,\"\\n\")\n",
        "    NAME=input(\"   NAME :\")\n",
        "    print(\"\\n--------------------------------------------\")\n",
        "    GREET = \"GOOD MORNING..\"\n",
        "    p=datetime.datetime.now()\n",
        "    if p.hour>20 :\n",
        "        GREET = \"IT'S NEAR TO SLLEP TIME , \"\n",
        "    elif p.hour>17 :\n",
        "        GREET = \"GOOD EVENING , \"\n",
        "    elif p.hour>11 :\n",
        "        GREET = \"GOOD AFTERNOON ,\"\n",
        "    print(\"\\n:) \"+GREET+NAME+\".. \\n   THIS BOT HELPS U TO ORDER A MOBILE PHONE..📱\")\n",
        "    return NAME"
      ],
      "execution_count": null,
      "outputs": []
    },
    {
      "cell_type": "code",
      "metadata": {
        "id": "C-YO1LV4Kk8a"
      },
      "source": [
        "# This is used to know the Willingness of the user to buy the phone\n",
        "def WILLINGNESS(NAME):\n",
        "    print(\"\\n:) WOULD U LIKE TO BUY A PHONE..?\")\n",
        "    print(\"   1.YES.. I AM   2.NO.. I DIDN'T WANT TO..\")\n",
        "    option=input(\"\\n   ENTER UR CHOICE[1-2]: \")\n",
        "    if option not in [\"1\",\"2\"]:\n",
        "        print(\"\\n   ENTER VALID INPUT..!😥\")\n",
        "        return WILLINGNESS(NAME)\n",
        "    print(\"\\n--------------------------------------------\")\n",
        "    if option==\"1\":\n",
        "        return 1\n",
        "    else:\n",
        "        return 2"
      ],
      "execution_count": null,
      "outputs": []
    },
    {
      "cell_type": "code",
      "metadata": {
        "id": "dMcApxTYK_6U"
      },
      "source": [
        "# Asking the customer about operating system which they prefer for a mobile\n",
        "def OPERRATING_SYSTEM(OS_OPTION):\n",
        "    print(\"\\n:) WHICH OPTION WOULD U LIKE TO PREFER :\")\n",
        "    print(\"   1.IOS   2.ANDROID\")\n",
        "    OS_OPTION = input(\"\\n   ENTER UR OPTION[1-2]:\")\n",
        "    if OS_OPTION not in [\"1\",\"2\"]:\n",
        "        print(\"\\n   ENTER VALID INPUT..!😥\")\n",
        "        return OPERRATING_SYSTEM(OS_OPTION)\n",
        "    print(\"\\n--------------------------------------------\")\n",
        "    return OS_OPTION"
      ],
      "execution_count": null,
      "outputs": []
    },
    {
      "cell_type": "code",
      "metadata": {
        "id": "q6Gx7WUHLE8R"
      },
      "source": [
        "# Type of the brand customer will prefer\n",
        "def BRAND(OS_OPTION,BRAND_OPTION):\n",
        "    print(\"\\n:) WHICH BRAND WOULD U LIKE TO PREFER :\")\n",
        "    if int(OS_OPTION)==1:\n",
        "        print(\"   1.APPLE  2.VIVO\")\n",
        "    else:\n",
        "        print(\"   1.REDMI  2.REALME  3.SAMSUNG\")\n",
        "    BRAND_OPTION = input(\"\\n   ENTER UR OPTION:\")\n",
        "    if int(OS_OPTION)==1:\n",
        "        if BRAND_OPTION not in [\"1\",\"2\"]:\n",
        "            print(\"\\n   ENTER VALID INPUT..!😥\")\n",
        "            BRAND(OS_OPTION,BRAND_OPTION)\n",
        "    else:\n",
        "        if BRAND_OPTION not in [\"1\",\"2\",\"3\"]:\n",
        "            print(\"\\n  ENTER VALID INPUT..!😥\")\n",
        "            BRAND(OS_OPTION,BRAND_OPTION)\n",
        "    print(\"\\n--------------------------------------------\")\n",
        "    return BRAND_OPTION"
      ],
      "execution_count": null,
      "outputs": []
    },
    {
      "cell_type": "code",
      "metadata": {
        "id": "42-UuNrSLXH4"
      },
      "source": [
        "# Range of budget customer wants to prefer\n",
        "def BUDGET(BUDGET_OPTION,OS_OPTION):\n",
        "    if OS_OPTION==\"2\":\n",
        "        print(\"\\n:) WHAT BUDGET WOULD U LIKE TO PREFER:\")\n",
        "        print(\"   1.5000Rs-10000Rs   2.10000Rs-15000Rs   3.15000Rs-20000Rs\")\n",
        "        BUDGET_OPTION = input(\"\\n:) ENTER UR CHOICE FOR BUDGET[1-3]: \")\n",
        "    else:\n",
        "        print(\"\\n:) WHAT BUDGET WOULD U LIKE TO PREFER:\")\n",
        "        print(\"   1.30000-40000Rs   2.40000-50000Rs   3.50000-60000Rs\")\n",
        "        BUDGET_OPTION = input(\"\\n   ENTER UR CHOICE FOR BUDGET[1-3]: \")\n",
        "    if BUDGET_OPTION not in [\"1\",\"2\",\"3\"]:\n",
        "        print(\"\\n   ENTER VALID INPUT..!😥\")\n",
        "        return BUDGET(BUDGET_OPTION,OS_OPTION)\n",
        "    print(\"\\n--------------------------------------------\")\n",
        "    return BUDGET_OPTION #SMALL CORRECTION FOR APPLE BUDGET\n",
        " "
      ],
      "execution_count": null,
      "outputs": []
    },
    {
      "cell_type": "code",
      "metadata": {
        "id": "1bTiTx8nLal4"
      },
      "source": [
        "# Letting the customer to know, RAM options available  \n",
        "def RAM(RAM_OPTION):\n",
        "    print(\"\\n:) WHAT RAM WOULD U LIKE TO PREFER:\")\n",
        "    print(\"   1.2GB   2.4GB   3.6GB\")\n",
        "    RAM_OPTION = input(\"\\n   ENTER UR CHOICE FOR RAM[1-3]: \")\n",
        "    if RAM_OPTION not in [\"1\",\"2\",\"3\"]:\n",
        "        print(\"\\n   ENTER VALID INPUT..!😥\")\n",
        "        return RAM(RAM_OPTION)\n",
        "    print(\"\\n--------------------------------------------\")\n",
        "    return str(RAM_OPTION)"
      ],
      "execution_count": null,
      "outputs": []
    },
    {
      "cell_type": "code",
      "metadata": {
        "id": "5KngZAE3LdLp"
      },
      "source": [
        "# Giving the options to pick the internal storage.\n",
        "def ROM(ROM_OPTION):\n",
        "    print(\"\\n:) WHAT INTERNAL STORAGE , WOULD U LIKE TO PREFER:\")\n",
        "    print(\"   1.32GB   2.64GB   3.128GB\")\n",
        "    ROM_OPTION = input(\"\\n   ENTER UR CHOICE FOR INTERNAL STORAGE[1-3]: \")\n",
        "    if ROM_OPTION not in [\"1\",\"2\",\"3\"]:\n",
        "        print(\"\\n   ENTER VALID INPUT..!😥\")\n",
        "        return ROM(ROM_OPTION)\n",
        "    print(\"\\n--------------------------------------------\")\n",
        "    return ROM_OPTION"
      ],
      "execution_count": null,
      "outputs": []
    },
    {
      "cell_type": "code",
      "metadata": {
        "id": "xkSZbb5qLfMo"
      },
      "source": [
        "# Selecting the display size.\n",
        "def DISPL_SIZE(DISP_SIZE):\n",
        "    print(\"\\n:) WHAT DISPLAY SIZE , WOULD U LIKE TO PREFER:\")\n",
        "    print(\"   1)6.0 INCH   2)6.2 INCH   3)6.3 INCH   4)6.4 INCH   5)6.5 INCH\")\n",
        "    DISP_SIZE = input(\"\\n   ENTER UR CHOICE FOR DISPLAY SIZE[1-5]: \")\n",
        "    if DISP_SIZE not in [\"1\",\"2\",\"3\",\"4\",\"5\"]:\n",
        "        print(\"\\n   ENTER VALID INPUT..!😥\")\n",
        "        return DISPL_SIZE(DISP_SIZE)\n",
        "    print(\"\\n--------------------------------------------\")\n",
        "    return  DISP_SIZE"
      ],
      "execution_count": null,
      "outputs": []
    },
    {
      "cell_type": "code",
      "metadata": {
        "id": "D4rYfSYvLfOX"
      },
      "source": [
        "# Selecting the Display Quality.\n",
        "def DISP_QUALITY(DISP_QUAL):\n",
        "    print(\"\\n:) WHAT DISPLAY QUALITY , WOULD U LIKE TO PREFER:\")\n",
        "    print(\"   1)HD   2)HD+   3)FHD   4)FHD+\")\n",
        "    DISP_QUAL = input(\"\\n   ENTER UR CHOICE FOR DISPLAY QUALITY[1-4]: \")\n",
        "    if DISP_QUAL not in [\"1\",\"2\",\"3\",\"4\"]:\n",
        "        print(\"\\n   ENTER VALID INPUT..!😥\")\n",
        "        return DISP_QUALITY(DISP_QUAL)\n",
        "    print(\"\\n--------------------------------------------\")\n",
        "    return str(DISP_QUAL)"
      ],
      "execution_count": null,
      "outputs": []
    },
    {
      "cell_type": "code",
      "metadata": {
        "id": "t3-IY4-6Lk44"
      },
      "source": [
        "# Giving options to select battery life.\n",
        "def BATERY(BAT_CAP):\n",
        "    print(\"\\n:) WHAT BATTERY CAPACITY , WOULD U LIKE TO PREFER:\")\n",
        "    print(\"   1)4000mah   2)5000mah   3)6000mah \")\n",
        "    BAT_CAP = input(\"\\n   ENTER UR CHOICE FOR BATTERY_CAPACITY[1-3]: \")\n",
        "    if BAT_CAP not in [\"1\",\"2\",\"3\"]:\n",
        "        print(\"\\n   ENTER VALID INPUT..!😥\")\n",
        "        return BATERY(BAT_CAP)\n",
        "    print(\"\\n--------------------------------------------\")\n",
        "    return str(BAT_CAP)"
      ],
      "execution_count": null,
      "outputs": []
    },
    {
      "cell_type": "code",
      "metadata": {
        "id": "kxNzqlazLrkg"
      },
      "source": [
        "# checking the availability of the product based on the features selected by customer.\n",
        "def ORDERS(S,COMPANY):\n",
        "    #REDMI\n",
        "    D={\"REDMI 8\":\"122122\",\"REDMI 9A\":\"111442\",\"REDMI NOTE 8\":\"122241\",\"REDMI NOTE 7\":\"222341\",\"REDMI NOTE 9\":\"333442\",\"REDMI K20\":\"332341\"}\n",
        "    #REALME\n",
        "    R={\"REALME C11\":\"111523\",\"REALME C12\":\"111523\",\"REALME 7\":\"232543\",\"REALME 6\":\"232542\",\"REALME NARZO 20PRO\":\"333542\",\"REALME 7PRO\":\"333443\"}\n",
        "    #SAMSUNG\n",
        "    SA={\"SAMSUNG GALAXY J2\":\"111111\",\"SAMSUNG GALAXY A10\":\"111221\",\"SAMSUNG GALAXY A20\":\"221422\",\"SAMSUNG GALAXY M20\":\"222322\",\"SAMSUNG GALAXY A21S\":\"333343\",\"SAMSUNG GALAXY M30S\":\"333342\"}\n",
        "    #APPLE\n",
        "    A={\"APPLE IPHONE 6\":\"111523\",\"APPLE IPHONE 7\":\"111442\",\"APPLE IPHONE 7 PLUS\":\"222322\",\"APPLE IPHONE 8\":\"333343\",\"APPLE IPHONE 8 PLUS\":\"333342\"}  \n",
        "    L=[D,R,SA,A]\n",
        "    FIND=1\n",
        "    for I in L[COMPANY]:\n",
        "      if L[COMPANY][I]==S:\n",
        "        print(\"\\n:) THE BEST SUITABLE MOBILE FOR UR DESIRED VARIANTS IS \"+I)\n",
        "        FIND=0\n",
        "    if FIND:    \n",
        "      print(\"\\n:) OOPS..! THERE IS NO PRDUCT AVALABLE FOR UR VARIANTS..😥\")\n",
        "    print(\"\\n:) WOULD YOU LIKE TO HAVE A ANOTHER GO..!\")\n",
        "    print(\"   1.YES    2.NO\")\n",
        "    n=input(\"\\n:) ENTER 1 IF U LIKE TO CHECK AGAIN :\")\n",
        "    print(\"\\n--------------------------------------------\")\n",
        "    if (n==\"1\"):\n",
        "      bot()\n",
        "    return \"\\n:) THANK YOU... VISIT AGAIN..!🤗\""
      ],
      "execution_count": null,
      "outputs": []
    },
    {
      "cell_type": "code",
      "metadata": {
        "id": "xjJLnkK8Luc9",
        "outputId": "6f9c8faa-4f28-4bdc-e108-a7843b83c186",
        "colab": {
          "base_uri": "https://localhost:8080/",
          "height": 1000
        }
      },
      "source": [
        "def bot():\n",
        "    NAME=\"\"\n",
        "    GREETINGS(NAME)\n",
        "    if WILLINGNESS(NAME)==2:\n",
        "        print(\"\\n:) SOORY..! I CAN'T HELP U..😔\")\n",
        "        return\n",
        "    OS_OPTION=BRAND_OPTION=BUDGET_OPTION=RAM_OPTION=ROM_OPTION=DISP_SIZE=DISP_QUAL=BAT_CAP=p=0  #initiaising variables   \n",
        "    OS_OPTION = OPERRATING_SYSTEM(OS_OPTION)  # calling funcion to select OS\n",
        "    BRAND_OPTION = BRAND(OS_OPTION,BRAND_OPTION) # calling function to select brand\n",
        "    COMPANY=int(BRAND_OPTION)-1  \n",
        "    if OS_OPTION==\"1\":\n",
        "        COMPANY=3  \n",
        "    BUDGET_OPTION = BUDGET(BUDGET_OPTION,OS_OPTION)  # selecting budget\n",
        "    RAM_OPTION = RAM(RAM_OPTION)  # calling funcion to select ROM\n",
        "    ROM_OPTION = ROM(ROM_OPTION)  # calling funcion to select RAM\n",
        "    DISP_SIZE = DISPL_SIZE(DISP_SIZE) # calling funcion to choose display size\n",
        "    DISP_QUAL = DISP_QUALITY(DISP_QUAL) # calling funcion to select display quality\n",
        "    BAT_CAP = BATERY(BAT_CAP)  # calling funcion to choose battery capacity\n",
        "    S=BUDGET_OPTION+RAM_OPTION+ROM_OPTION+DISP_SIZE+DISP_QUAL+BAT_CAP\n",
        "    p=ORDERS(S,COMPANY)  # calling funcion to finalise the product availability\n",
        "    print(p)\n",
        "bot()"
      ],
      "execution_count": 139,
      "outputs": [
        {
          "output_type": "stream",
          "text": [
            ":) HELLO BUDDY..! THIS IS JARVIS UR GOOD NAME PLEASE ..! \n",
            "\n",
            "   NAME : lohit\n",
            "\n",
            "--------------------------------------------\n",
            "\n",
            ":) GOOD AFTERNOON , lohit.. \n",
            "   THIS BOT HELPS U TO ORDER A MOBILE PHONE..📱\n",
            "\n",
            ":) WOULD U LIKE TO BUY A PHONE..?\n",
            "   1.YES.. I AM   2.NO.. I DIDN'T WANT TO..\n",
            "\n",
            "   ENTER UR CHOICE[1-2]: 1\n",
            "\n",
            "--------------------------------------------\n",
            "\n",
            ":) WHICH OPTION WOULD U LIKE TO PREFER :\n",
            "   1.IOS   2.ANDROID\n",
            "\n",
            "   ENTER UR OPTION[1-2]:2\n",
            "\n",
            "--------------------------------------------\n",
            "\n",
            ":) WHICH BRAND WOULD U LIKE TO PREFER :\n",
            "   1.REDMI  2.REALME  3.SAMSUNG\n",
            "\n",
            "   ENTER UR OPTION:1\n",
            "\n",
            "--------------------------------------------\n",
            "\n",
            ":) WHAT BUDGET WOULD U LIKE TO PREFER:\n",
            "   1.5000Rs-10000Rs   2.10000Rs-15000Rs   3.15000Rs-20000Rs\n",
            "\n",
            ":) ENTER UR CHOICE FOR BUDGET[1-3]: 2\n",
            "\n",
            "--------------------------------------------\n",
            "\n",
            ":) WHAT RAM WOULD U LIKE TO PREFER:\n",
            "   1.2GB   2.4GB   3.6GB\n",
            "\n",
            "   ENTER UR CHOICE FOR RAM[1-3]: 2\n",
            "\n",
            "--------------------------------------------\n",
            "\n",
            ":) WHAT INTERNAL STORAGE , WOULD U LIKE TO PREFER:\n",
            "   1.32GB   2.64GB   3.128GB\n",
            "\n",
            "   ENTER UR CHOICE FOR INTERNAL STORAGE[1-3]: 2\n",
            "\n",
            "--------------------------------------------\n",
            "\n",
            ":) WHAT DISPLAY SIZE , WOULD U LIKE TO PREFER:\n",
            "   1)6.0 INCH   2)6.2 INCH   3)6.3 INCH   4)6.4 INCH   5)6.5 INCH\n",
            "\n",
            "   ENTER UR CHOICE FOR DISPLAY SIZE[1-5]: 3\n",
            "\n",
            "--------------------------------------------\n",
            "\n",
            ":) WHAT DISPLAY QUALITY , WOULD U LIKE TO PREFER:\n",
            "   1)HD   2)HD+   3)FHD   4)FHD+\n",
            "\n",
            "   ENTER UR CHOICE FOR DISPLAY QUALITY[1-4]: 4\n",
            "\n",
            "--------------------------------------------\n",
            "\n",
            ":) WHAT BATTERY CAPACITY , WOULD U LIKE TO PREFER:\n",
            "   1)4000mah   2)5000mah   3)6000mah \n",
            "\n",
            "   ENTER UR CHOICE FOR BATTERY_CAPACITY[1-3]: 1\n",
            "\n",
            "--------------------------------------------\n",
            "\n",
            ":) THE BEST SUITABLE MOBILE FOR UR DESIRED VARIANTS IS REDMI NOTE 7\n",
            "\n",
            ":) WOULD YOU LIKE TO HAVE A ANOTHER GO..!\n",
            "   1.YES    2.NO\n",
            "\n",
            ":) ENTER 1 IF U LIKE TO CHECK AGAIN :2\n",
            "\n",
            "--------------------------------------------\n",
            "\n",
            ":) THANK YOU... VISIT AGAIN..!🤗\n"
          ],
          "name": "stdout"
        }
      ]
    },
    {
      "cell_type": "code",
      "metadata": {
        "id": "P7qdQZGtTAKA"
      },
      "source": [
        ""
      ],
      "execution_count": null,
      "outputs": []
    }
  ]
}
